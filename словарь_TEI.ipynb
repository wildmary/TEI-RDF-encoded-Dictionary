{
  "nbformat": 4,
  "nbformat_minor": 0,
  "metadata": {
    "colab": {
      "name": "словарь_TEI.ipynb",
      "provenance": [],
      "authorship_tag": "ABX9TyOmEPO3aXNYkwwrsf9GRtZQ",
      "include_colab_link": true
    },
    "kernelspec": {
      "name": "python3",
      "display_name": "Python 3"
    },
    "language_info": {
      "name": "python"
    }
  },
  "cells": [
    {
      "cell_type": "markdown",
      "metadata": {
        "id": "view-in-github",
        "colab_type": "text"
      },
      "source": [
        "<a href=\"https://colab.research.google.com/github/wildmary/TEI-encoded-Dictionary/blob/main/%D1%81%D0%BB%D0%BE%D0%B2%D0%B0%D1%80%D1%8C_TEI.ipynb\" target=\"_parent\"><img src=\"https://colab.research.google.com/assets/colab-badge.svg\" alt=\"Open In Colab\"/></a>"
      ]
    },
    {
      "cell_type": "code",
      "metadata": {
        "id": "9rCwNsi18hhr"
      },
      "source": [
        "import re \n",
        "import csv\n",
        "from lxml import etree\n",
        "import pandas as pd"
      ],
      "execution_count": 22,
      "outputs": []
    },
    {
      "cell_type": "code",
      "metadata": {
        "id": "DYoeKFYy96G8"
      },
      "source": [
        "def init():\n",
        "  slovar = pd.read_csv(\"whole_dict_edited.csv\", sep=\";\")\n",
        "  slovar.columns = [\"Griechisch\", \"GLemma\", \"GMSA\", \"Slavisch\", \"SÜbersetzung\", \"SemantK\", \"Lateinisch\", \"LLemma\", \"LGram\"]\n",
        "  root = etree.Element(\"TEI\", xmlns=\"http://www.tei-c.org/ns/1.0\")\n",
        "  teiheader = etree.Element(\"teiHeader\")\n",
        "  root.append(teiheader)\n",
        "  fileDesc = etree.SubElement(teiheader, \"fileDesc\")\n",
        "  titleStmt = etree.SubElement(fileDesc, \"titleStmt\")\n",
        "  title = etree.SubElement(titleStmt, \"title\")\n",
        "  title.text = \"Словарь Епифания Славинецкого\"\n",
        "  text = etree.SubElement(root, \"text\")\n",
        "  body = etree.SubElement(text, \"body\")"
      ],
      "execution_count": 33,
      "outputs": []
    },
    {
      "cell_type": "code",
      "metadata": {
        "id": "0tkYJfTb8kF6"
      },
      "source": [
        "#def generate_xml():\n",
        "slovar = pd.read_csv(\"whole_dict_edited.csv\", sep=\";\")\n",
        "slovar.columns = [\"Griechisch\", \"GLemma\", \"GMSA\", \"Slavisch\", \"SÜbersetzung\", \"SemantK\", \"Lateinisch\", \"LLemma\", \"LGram\"]\n",
        "root = etree.Element(\"TEI\", xmlns=\"http://www.tei-c.org/ns/1.0\")\n",
        "teiheader = etree.Element(\"teiHeader\")\n",
        "root.append(teiheader)\n",
        "fileDesc = etree.SubElement(teiheader, \"fileDesc\")\n",
        "titleStmt = etree.SubElement(fileDesc, \"titleStmt\")\n",
        "title = etree.SubElement(titleStmt, \"title\")\n",
        "title.text = \"Словарь Епифания Славинецкого\"\n",
        "text = etree.SubElement(root, \"text\")\n",
        "body = etree.SubElement(text, \"body\")\n",
        "for index, row in slovar.iterrows():\n",
        "  if index == 0:\n",
        "    continue\n",
        "  else:\n",
        "    if type(row[\"Griechisch\"]) != float:\n",
        "      if type(row[\"GLemma\"]) == float and type(row[\"SÜbersetzung\"]) == float and type(row[\"LLemma\"]) == float:\n",
        "        page_note(row)\n",
        "      if type(row[\"GLemma\"]) != float:\n",
        "        entry = etree.SubElement(body, \"entry\", xml_id=row[\"GLemma\"], xml_lang=\"grc\")\n",
        "        form = etree.SubElement(entry, \"form\", type=\"hyperlemma\")\n",
        "        orth = etree.SubElement(form, \"orth\")\n",
        "        orth.text = row[\"Griechisch\"]\n",
        "      else:\n",
        "        continue\n",
        "    if type(row[\"GLemma\"]) != float:\n",
        "      if type(row[\"Griechisch\"]) == float:\n",
        "        entry = etree.SubElement(body, \"entry\", xml_id=row[\"GLemma\"], xml_lang=\"grc\")\n",
        "      form = etree.SubElement(entry, \"form\", type=\"lemma\")\n",
        "      orth = etree.SubElement(form, \"orth\")\n",
        "      orth.text = row[\"GLemma\"]\n",
        "      if type(row[\"GMSA\"]) != float: \n",
        "        grammar(row[\"GMSA\"])\n",
        "      if type(row[\"SÜbersetzung\"]) != float:\n",
        "        sense_greek = etree.SubElement(entry, \"sense\", xml_id=row[\"GLemma\"]+\".1\")\n",
        "        slavic_latin_translation()\n",
        "        several_slavic_equivalents_check(slovar[\"SÜbersetzung\"], slovar[\"Lateinisch\"], slovar[\"LLemma\"])\n",
        "    if type(row[\"SemantK\"]) != float:\n",
        "      semantischer_kommentar()\n",
        "etree.ElementTree(root).write('dictionary_TEI.xml', pretty_print=True, xml_declaration = True, encoding='UTF-8', standalone = None)"
      ],
      "execution_count": 114,
      "outputs": []
    },
    {
      "cell_type": "code",
      "metadata": {
        "id": "pGtOFYcW99B1"
      },
      "source": [
        "def page_note(row):\n",
        "  column = re.search(\"^(?P<f>f.)\\s(?P<page_num>\\d\\d\\d.).*(?P<side>linke|rechte)\\s(?P<Spalte>Spalte)\", row[\"Griechisch\"])\n",
        "  page = re.search(\"Kustode.*(?P<pg>\\d\\d\\d.)\", row[\"Griechisch\"])\n",
        "  if column:\n",
        "    cb = etree.SubElement(body, \"cb\", pageside=column.group(\"page_num\"), side=column.group(\"side\"))\n",
        "    cb.text = row[\"Griechisch\"]\n",
        "  if page:\n",
        "    pb = etree.SubElement(body, \"pb\", n=page.group(\"pg\"))\n",
        "    pb.text = row[\"Griechisch\"]\n",
        "  if not column and not page:\n",
        "    marg_note = etree.SubElement(body, \"note\")\n",
        "    marg_note.text = row[\"Griechisch\"]"
      ],
      "execution_count": 48,
      "outputs": []
    },
    {
      "cell_type": "code",
      "metadata": {
        "id": "JRFMapVy-Bfc"
      },
      "source": [
        "def verb_gram():\n",
        "  form = etree.SubElement(entry, \"form\", type=\"inflected\")\n",
        "  gramGrp = etree.SubElement(form, \"gramGrp\")\n",
        "  gram = etree.SubElement(gramGrp, \"gram\", type=\"pos\", value=\"verb\")\n",
        "  gram = etree.SubElement(gramGrp, \"gram\", type=\"tense\", value=\"aorist\")\n",
        "  orth = etree.SubElement(form, \"orth\")\n",
        "  orth.text = verb.group(\"aorist\")\n",
        "  form = etree.SubElement(entry, \"form\", type=\"inflected\")\n",
        "  gramGrp = etree.SubElement(form, \"gramGrp\")\n",
        "  gram = etree.SubElement(gramGrp, \"gram\", type=\"pos\", value=\"verb\")\n",
        "  gram = etree.SubElement(gramGrp, \"gram\", type=\"tense\", value=\"perfect\")\n",
        "  orth = etree.SubElement(form, \"orth\")\n",
        "  orth.text = verb.group(\"perfect\")"
      ],
      "execution_count": 26,
      "outputs": []
    },
    {
      "cell_type": "code",
      "metadata": {
        "id": "yBuuIkUD-JBg"
      },
      "source": [
        "def grammar(MSA):\n",
        "  noun = re.search(\"(ὁ|ἡ|τὸ)\", MSA)\n",
        "  nouns = re.search(\"(οἱ|αἱ|τὰ)\", MSA)\n",
        "  verb = re.search(\"((\\\\?μ),?\\s(?P<aorist>.*?))?\\s((π),?\\s(?P<perfect>.*))?\", MSA)\n",
        "  adj = re.search(\"((.*?),\\s?)?(.?ὁ καὶ ἡ.?)\", MSA)\n",
        "  just_noun = re.search(\"(.*?),\\s(ὁ|ἡ|τὸ)\", MSA)\n",
        "  genitive_noun = re.search(\"(?P<first>.*?)\\s(καὶ)\\s(?P<second>.*?),\\s?(?P<gen>ὁ|ἡ|τὸ)\", MSA)\n",
        "  def gen_check():\n",
        "    if re.search(\"ὁ\", MSA):\n",
        "      gram = etree.SubElement(gramGrp, \"gram\", type=\"gen\", value=\"m\")\n",
        "      gram.text = \"ὁ\"\n",
        "    if re.search(\"ἡ\", MSA):\n",
        "      gram = etree.SubElement(gramGrp, \"gram\", type=\"gen\", value=\"f\")\n",
        "      gram.text = \"ἡ\"\n",
        "    if re.search(\"τὸ\", MSA):\n",
        "      gram = etree.SubElement(gramGrp, \"gram\", type=\"gen\", value=\"n\")\n",
        "      gram.text = \"τὸ\"\n",
        "  def verb_gram():\n",
        "    form = etree.SubElement(entry, \"form\", type=\"inflected\")\n",
        "    gramGrp = etree.SubElement(form, \"gramGrp\")\n",
        "    gram = etree.SubElement(gramGrp, \"gram\", type=\"pos\", value=\"verb\")\n",
        "    gram = etree.SubElement(gramGrp, \"gram\", type=\"tense\", value=\"aorist\")\n",
        "    orth = etree.SubElement(form, \"orth\")\n",
        "    orth.text = verb.group(\"aorist\")\n",
        "    form = etree.SubElement(entry, \"form\", type=\"inflected\")\n",
        "    gramGrp = etree.SubElement(form, \"gramGrp\")\n",
        "    gram = etree.SubElement(gramGrp, \"gram\", type=\"pos\", value=\"verb\")\n",
        "    gram = etree.SubElement(gramGrp, \"gram\", type=\"tense\", value=\"perfect\")\n",
        "    orth = etree.SubElement(form, \"orth\")\n",
        "    orth.text = verb.group(\"perfect\")\n",
        "  if type(MSA) != float and  type(slovar[\"GLemma\"][index+1]) != float:\n",
        "      if noun:\n",
        "        form = etree.SubElement(entry, \"form\", type=\"inflected\")\n",
        "        gramGrp = etree.SubElement(form, \"gramGrp\")\n",
        "        gram = etree.SubElement(gramGrp, \"gram\", type=\"number\", value=\"sg\")\n",
        "        gram = etree.SubElement(gramGrp, \"gram\", type=\"pos\", value=\"noun\")\n",
        "        if re.search(\"^(ὁ|ἡ|τὸ)$\", MSA):\n",
        "          gen_check()\n",
        "        if just_noun:\n",
        "          gram = etree.SubElement(gramGrp, \"gram\", type=\"case\", value=\"genitiv\")\n",
        "          orth = etree.SubElement(form, \"orth\", extent=\"part\")\n",
        "          orth.text = just_noun.group(1)\n",
        "          gen_check()\n",
        "        if genitive_noun:\n",
        "          gram = etree.SubElement(gramGrp, \"gram\", type=\"case\", value=\"genitiv\")\n",
        "          form_var1 = etree.SubElement(form, \"form\", type=\"variant\", n=1)\n",
        "          orth = etree.SubElement(form_var1, \"orth\", extent=\"part\")\n",
        "          orth.text = genitive_noun.group(\"first\")\n",
        "          form_var2 = etree.SubElement(form, \"form\", type=\"variant\", n=2)\n",
        "          orth = etree.SubElement(form_var2, \"orth\", extent=\"part\")\n",
        "          orth.text = genitive_noun.group(\"second\")\n",
        "          gen_check()\n",
        "      elif nouns:\n",
        "        form = etree.SubElement(entry, \"form\", type=\"inflected\")\n",
        "        gramGrp = etree.SubElement(form, \"gramGrp\")\n",
        "        gram = etree.SubElement(gramGrp, \"gram\", type=\"pos\", value=\"noun\")\n",
        "        gram = etree.SubElement(gramGrp, \"gram\", type=\"number\", value=\"pl\")\n",
        "        if re.search(\"οἱ\", MSA):\n",
        "          gram = etree.SubElement(gramGrp, \"gram\", type=\"gen\", value=\"m\")\n",
        "          gram.text = \"οἱ\"\n",
        "        if re.search(\"αἱ\", MSA):\n",
        "          gram = etree.SubElement(gramGrp, \"gram\", type=\"gen\", value=\"f\")\n",
        "          gram.text = \"αἱ\"\n",
        "        if re.search(\"τὰ\", MSA):\n",
        "          gram = etree.SubElement(gramGrp, \"gram\", type=\"gen\", value=\"n\")\n",
        "          gram.text = \"τὰ\"\n",
        "      elif adj:\n",
        "        form = etree.SubElement(entry, \"form\", type=\"inflected\")\n",
        "        gramGrp = etree.SubElement(form, \"gramGrp\")\n",
        "        gram = etree.SubElement(gramGrp, \"gram\", type=\"pos\", value=\"adj\")\n",
        "        gram = etree.SubElement(gramGrp, \"gram\", type=\"number\", value=\"sg\")\n",
        "        gram = etree.SubElement(gramGrp, \"gram\", type=\"gen\", value=\"m\")\n",
        "        gram = etree.SubElement(gramGrp, \"gram\", type=\"gen\", value=\"f\")\n",
        "        gram = etree.SubElement(gramGrp, \"gram\", type=\"case\", value=\"genitiv\")\n",
        "        orth = etree.SubElement(form, \"orth\", extent=\"part\")\n",
        "        orth.text = MSA  \n",
        "        print(MSA)\n",
        "      elif MSA == \"ῶ\" and type(slovar[\"GMSA\"][index+1]) != float:\n",
        "        slovar[\"GMSA\"][index] = slovar[\"GMSA\"][index]+\" \"+ slovar[\"GMSA\"][index+1]\n",
        "        if type(slovar[\"GMSA\"][index+2]) != float and type(slovar[\"Griechisch\"][index+2]) == float:\n",
        "          slovar[\"GMSA\"][index] = slovar[\"GMSA\"][index]+\" \"+slovar[\"GMSA\"][index+2]\n",
        "        form = etree.SubElement(entry, \"form\", type=\"variant\")\n",
        "        gramGrp = etree.SubElement(form, \"gramGrp\")\n",
        "        gram = etree.SubElement(gramGrp, \"gram\", type=\"pos\", value=\"verb\")\n",
        "        gram = etree.SubElement(gramGrp, \"gram\")\n",
        "        gram.text = \"ῶ\"\n",
        "        verb_gram()\n",
        "      elif verb:\n",
        "        if type(slovar[\"GMSA\"][index+1]) != float and type(slovar[\"Griechisch\"][index+1]) == float:\n",
        "          slovar[\"GMSA\"][index] = slovar[\"GMSA\"][index]+\" \"+slovar[\"GMSA\"][index+1]\n",
        "          verb_gram()\n",
        "      elif MSA == \"ῶ\":\n",
        "        form = etree.SubElement(entry, \"form\", type=\"variant\")\n",
        "        gramGrp = etree.SubElement(form, \"gramGrp\")\n",
        "        gram = etree.SubElement(gramGrp, \"gram\")\n",
        "        gram.text = \"ῶ\"\n",
        "      else:\n",
        "        form = etree.SubElement(entry, \"form\", type=\"inflected\")\n",
        "        gramGrp = etree.SubElement(form, \"gramGrp\")\n",
        "        gram = etree.SubElement(gramGrp, \"gram\")\n",
        "        orth = etree.SubElement(form, \"orth\")\n",
        "        orth.text = MSA "
      ],
      "execution_count": 107,
      "outputs": []
    },
    {
      "cell_type": "code",
      "metadata": {
        "id": "JexKsQ2O-ZE_"
      },
      "source": [
        " def slavic_latin_translation():\n",
        "   cit = etree.SubElement(sense_greek, \"cit\", type=\"translationEquivalent\", xml_lang = \"chu\")\n",
        "   form = etree.SubElement(cit, \"form\",  xml_id=row[\"SÜbersetzung\"].strip(\",\"))\n",
        "   orth = etree.SubElement(form, \"orth\")\n",
        "   orth.text = row[\"SÜbersetzung\"].strip(\",\")\n",
        "   if type(row[\"Lateinisch\"]) != float and row[\"Lateinisch\"] != \"-\":\n",
        "        sense = etree.SubElement(cit, \"sense\", xml_id=row[\"SÜbersetzung\"].strip(\",\")+\".1\")\n",
        "        cit = etree.SubElement(sense, \"cit\", type=\"translationEquivalent\", xml_lang = \"lat\")\n",
        "        form = etree.SubElement(cit, \"form\", type=\"hyperlemma\", xml_id=row[\"Lateinisch\"])\n",
        "        orth = etree.SubElement(form, \"orth\")\n",
        "        if type(slovar[\"SÜbersetzung\"][index+1]) == float \\\n",
        "        and type(slovar[\"Lateinisch\"][index+1]) != float and slovar[\"Lateinisch\"][index+1] != \"-\":\n",
        "          orth.text = row[\"Lateinisch\"]+\" \"+slovar[\"Lateinisch\"][index+1]\n",
        "        else:\n",
        "          orth.text = row[\"Lateinisch\"]\n",
        "   if type(row[\"LLemma\"]) != float and row[\"LLemma\"] != \"-\":\n",
        "    form = etree.SubElement(cit, \"form\", type=\"lemma\", xml_id=row[\"LLemma\"])\n",
        "    orth = etree.SubElement(form, \"orth\")\n",
        "    orth.text = row[\"LLemma\"]"
      ],
      "execution_count": 28,
      "outputs": []
    },
    {
      "cell_type": "code",
      "metadata": {
        "id": "WgVVXr6s-Z7A"
      },
      "source": [
        "def several_slavic_equivalents_check(Slavic, Latin, LatLemma):\n",
        "  global index\n",
        "  while type(slovar[\"GLemma\"][index+1]) == float:\n",
        "    if type(Slavic[index+1]) != float:\n",
        "      cit = etree.SubElement(sense_greek, \"cit\", type=\"translationEquivalent\", xml_lang = \"chu\")\n",
        "      form = etree.SubElement(cit, \"form\",  xml_id=Slavic[index+1].strip(\",\"))\n",
        "      orth = etree.SubElement(form, \"orth\")\n",
        "      orth.text = Slavic[index+1].strip(\",\")\n",
        "      if type(Latin[index+1]) != float and Latin[index+1] != \"-\":\n",
        "        sense = etree.SubElement(cit, \"sense\", xml_id=Slavic[index+1]+\".1\")\n",
        "        cit = etree.SubElement(sense, \"cit\", type=\"translationEquivalent\", xml_lang = \"lat\")\n",
        "        form = etree.SubElement(cit, \"form\", type=\"hyperlemma\", xml_id=Latin[index+1])\n",
        "        orth = etree.SubElement(form, \"orth\")\n",
        "        if type(Slavic[index+2]) == float and type(Latin[index+2]) != float and Latin[index+2] != \"-\": \n",
        "          orth.text = Latin[index+1]+\" \"+Latin[index+2]\n",
        "          if type(Slavic[index+3]) == float \\\n",
        "          and type(Latin[index+3]) != float and Latin[index+3] != \"-\":\n",
        "            orth.text = Latin[index+1]+\" \"+Latin[index+2]+\" \"+Latin[index+3]\n",
        "        else:\n",
        "          orth.text = Latin[index+1]\n",
        "      if type(LatLemma[index+1]) != float and LatLemma[index+1] != \"-\":\n",
        "        if type(Latin[index+1]) == float or Latin[index+1] == \"-\":\n",
        "          sense = etree.SubElement(cit, \"sense\", xml_id=Slavic[index+1].strip(\",\")+\".1\")\n",
        "          cit = etree.SubElement(sense, \"cit\", type=\"translationEquivalent\", xml_lang = \"lat\")\n",
        "        form = etree.SubElement(cit, \"form\", type=\"lemma\", xml_id=LatLemma[index+1])\n",
        "        orth = etree.SubElement(form, \"orth\")\n",
        "        if type(Slavic[index+2]) == float and type(LatLemma[index+2]) != float and LatLemma[index+2] != \"-\": \n",
        "          orth.text = LatLemma[index+1]+\" \"+LatLemma[index+2]\n",
        "          if type(Slavic[index+3]) == float \\\n",
        "          and type(LatLemma[index+3]) != float and LatLemma[index+3] != \"-\":\n",
        "            orth.text = LatLemma[index+1]+\" \"+LatLemma[index+2]+\" \"+LatLemma[index+3]\n",
        "        else:\n",
        "          orth.text = LatLemma[index+1]\n",
        "    index+= 1"
      ],
      "execution_count": 29,
      "outputs": []
    },
    {
      "cell_type": "code",
      "metadata": {
        "id": "GH1Biwxt-jIo"
      },
      "source": [
        "def semantischer_kommentar():\n",
        "  global index\n",
        "  if type(row[\"GLemma\"]) == float and type(slovar[\"SÜbersetzung\"][index-1]) != float:\n",
        "    index-= 1\n",
        "    while type(slovar[\"GLemma\"][index-1]) == float and type(slovar[\"SÜbersetzung\"][index]) != float:\n",
        "      row[\"GLemma\"] = slovar[\"GLemma\"][index-1]\n",
        "      index-= 1\n",
        "    row[\"GLemma\"] = slovar[\"GLemma\"][index-1]\n",
        "  note_in_entry = re.search(\"(\\[.*\\])\", row[\"SemantK\"])\n",
        "  cross_reference_mention = re.search(\"^(тожде єже|тожде|таже)\\s(.*)\", row[\"SemantK\"])\n",
        "  sense_note = etree.SubElement(entry, \"sense\", xml_id=row[\"GLemma\"]+\".1\")\n",
        "  note = etree.SubElement(sense_note, \"note\")\n",
        "  if row[\"SemantK\"] == \"тожде\":\n",
        "    xr = etree.SubElement(note, \"xr\", type=\"synonymy\")\n",
        "    while type(slovar[\"GLemma\"][index-1]) == float:\n",
        "      index-= 1\n",
        "    ref = etree.SubElement(xr, \"ref\", type=\"entry\", target=\"#\"+slovar[\"GLemma\"][index-1])\n",
        "    ref.text = row[\"SemantK\"]\n",
        "  if cross_reference_mention:\n",
        "    xr = etree.SubElement(note, \"xr\", type=\"synonymy\")\n",
        "    lbl = etree.SubElement(xr, \"lbl\")\n",
        "    lbl.text = cross_reference_mention.group(1)\n",
        "    ref = etree.SubElement(xr, \"ref\", type=\"entry\", target=\"#\"+cross_reference_mention.group(2))\n",
        "    ref.text = cross_reference_mention.group(2)\n",
        "  if not row[\"SemantK\"] == \"тожде\" and not cross_reference_mention:\n",
        "    note.text = row[\"SemantK\"]\n",
        "  if note_in_entry:\n",
        "    note_editorial = etree.SubElement(note, \"note\", type=\"editor\")\n",
        "    note_editorial.text = note_in_entry.group(1)\n"
      ],
      "execution_count": 105,
      "outputs": []
    },
    {
      "cell_type": "code",
      "metadata": {
        "colab": {
          "base_uri": "https://localhost:8080/",
          "height": 320
        },
        "id": "FV9WK_m3_r1S",
        "outputId": "716292e6-ca38-4db3-8073-5481f78fa50f"
      },
      "source": [
        "generate_xml()\n",
        "ElementTree(root).write('dictionary_TEI.xml', pretty_print=True, xml_declaration = True, encoding='UTF-8', standalone = None)"
      ],
      "execution_count": 49,
      "outputs": [
        {
          "output_type": "error",
          "ename": "NameError",
          "evalue": "ignored",
          "traceback": [
            "\u001b[0;31m---------------------------------------------------------------------------\u001b[0m",
            "\u001b[0;31mNameError\u001b[0m                                 Traceback (most recent call last)",
            "\u001b[0;32m<ipython-input-49-f08213cb67cb>\u001b[0m in \u001b[0;36m<module>\u001b[0;34m()\u001b[0m\n\u001b[0;32m----> 1\u001b[0;31m \u001b[0mgenerate_xml\u001b[0m\u001b[0;34m(\u001b[0m\u001b[0;34m)\u001b[0m\u001b[0;34m\u001b[0m\u001b[0;34m\u001b[0m\u001b[0m\n\u001b[0m\u001b[1;32m      2\u001b[0m \u001b[0mElementTree\u001b[0m\u001b[0;34m(\u001b[0m\u001b[0mroot\u001b[0m\u001b[0;34m)\u001b[0m\u001b[0;34m.\u001b[0m\u001b[0mwrite\u001b[0m\u001b[0;34m(\u001b[0m\u001b[0;34m'dictionary_TEI.xml'\u001b[0m\u001b[0;34m,\u001b[0m \u001b[0mpretty_print\u001b[0m\u001b[0;34m=\u001b[0m\u001b[0;32mTrue\u001b[0m\u001b[0;34m,\u001b[0m \u001b[0mxml_declaration\u001b[0m \u001b[0;34m=\u001b[0m \u001b[0;32mTrue\u001b[0m\u001b[0;34m,\u001b[0m \u001b[0mencoding\u001b[0m\u001b[0;34m=\u001b[0m\u001b[0;34m'UTF-8'\u001b[0m\u001b[0;34m,\u001b[0m \u001b[0mstandalone\u001b[0m \u001b[0;34m=\u001b[0m \u001b[0;32mNone\u001b[0m\u001b[0;34m)\u001b[0m\u001b[0;34m\u001b[0m\u001b[0;34m\u001b[0m\u001b[0m\n",
            "\u001b[0;32m<ipython-input-46-c54ff455793f>\u001b[0m in \u001b[0;36mgenerate_xml\u001b[0;34m()\u001b[0m\n\u001b[1;32m     17\u001b[0m       \u001b[0;32mif\u001b[0m \u001b[0mtype\u001b[0m\u001b[0;34m(\u001b[0m\u001b[0mrow\u001b[0m\u001b[0;34m[\u001b[0m\u001b[0;34m\"Griechisch\"\u001b[0m\u001b[0;34m]\u001b[0m\u001b[0;34m)\u001b[0m \u001b[0;34m!=\u001b[0m \u001b[0mfloat\u001b[0m\u001b[0;34m:\u001b[0m\u001b[0;34m\u001b[0m\u001b[0;34m\u001b[0m\u001b[0m\n\u001b[1;32m     18\u001b[0m         \u001b[0;32mif\u001b[0m \u001b[0mtype\u001b[0m\u001b[0;34m(\u001b[0m\u001b[0mrow\u001b[0m\u001b[0;34m[\u001b[0m\u001b[0;34m\"GLemma\"\u001b[0m\u001b[0;34m]\u001b[0m\u001b[0;34m)\u001b[0m \u001b[0;34m==\u001b[0m \u001b[0mfloat\u001b[0m \u001b[0;32mand\u001b[0m \u001b[0mtype\u001b[0m\u001b[0;34m(\u001b[0m\u001b[0mrow\u001b[0m\u001b[0;34m[\u001b[0m\u001b[0;34m\"SÜbersetzung\"\u001b[0m\u001b[0;34m]\u001b[0m\u001b[0;34m)\u001b[0m \u001b[0;34m==\u001b[0m \u001b[0mfloat\u001b[0m \u001b[0;32mand\u001b[0m \u001b[0mtype\u001b[0m\u001b[0;34m(\u001b[0m\u001b[0mrow\u001b[0m\u001b[0;34m[\u001b[0m\u001b[0;34m\"LLemma\"\u001b[0m\u001b[0;34m]\u001b[0m\u001b[0;34m)\u001b[0m \u001b[0;34m==\u001b[0m \u001b[0mfloat\u001b[0m\u001b[0;34m:\u001b[0m\u001b[0;34m\u001b[0m\u001b[0;34m\u001b[0m\u001b[0m\n\u001b[0;32m---> 19\u001b[0;31m           \u001b[0mpage_note\u001b[0m\u001b[0;34m(\u001b[0m\u001b[0mrow\u001b[0m\u001b[0;34m)\u001b[0m\u001b[0;34m\u001b[0m\u001b[0;34m\u001b[0m\u001b[0m\n\u001b[0m\u001b[1;32m     20\u001b[0m         \u001b[0;32melse\u001b[0m\u001b[0;34m:\u001b[0m\u001b[0;34m\u001b[0m\u001b[0;34m\u001b[0m\u001b[0m\n\u001b[1;32m     21\u001b[0m           \u001b[0mentry\u001b[0m \u001b[0;34m=\u001b[0m \u001b[0metree\u001b[0m\u001b[0;34m.\u001b[0m\u001b[0mSubElement\u001b[0m\u001b[0;34m(\u001b[0m\u001b[0mbody\u001b[0m\u001b[0;34m,\u001b[0m \u001b[0;34m\"entry\"\u001b[0m\u001b[0;34m,\u001b[0m \u001b[0mxml_id\u001b[0m\u001b[0;34m=\u001b[0m\u001b[0mrow\u001b[0m\u001b[0;34m[\u001b[0m\u001b[0;34m\"GLemma\"\u001b[0m\u001b[0;34m]\u001b[0m\u001b[0;34m,\u001b[0m \u001b[0mxml_lang\u001b[0m\u001b[0;34m=\u001b[0m\u001b[0;34m\"grc\"\u001b[0m\u001b[0;34m)\u001b[0m\u001b[0;34m\u001b[0m\u001b[0;34m\u001b[0m\u001b[0m\n",
            "\u001b[0;32m<ipython-input-48-62819d6c3eb7>\u001b[0m in \u001b[0;36mpage_note\u001b[0;34m(row)\u001b[0m\n\u001b[1;32m      3\u001b[0m   \u001b[0mpage\u001b[0m \u001b[0;34m=\u001b[0m \u001b[0mre\u001b[0m\u001b[0;34m.\u001b[0m\u001b[0msearch\u001b[0m\u001b[0;34m(\u001b[0m\u001b[0;34m\"Kustode.*(?P<pg>\\d\\d\\d.)\"\u001b[0m\u001b[0;34m,\u001b[0m \u001b[0mrow\u001b[0m\u001b[0;34m[\u001b[0m\u001b[0;34m\"Griechisch\"\u001b[0m\u001b[0;34m]\u001b[0m\u001b[0;34m)\u001b[0m\u001b[0;34m\u001b[0m\u001b[0;34m\u001b[0m\u001b[0m\n\u001b[1;32m      4\u001b[0m   \u001b[0;32mif\u001b[0m \u001b[0mcolumn\u001b[0m\u001b[0;34m:\u001b[0m\u001b[0;34m\u001b[0m\u001b[0;34m\u001b[0m\u001b[0m\n\u001b[0;32m----> 5\u001b[0;31m     \u001b[0mcb\u001b[0m \u001b[0;34m=\u001b[0m \u001b[0metree\u001b[0m\u001b[0;34m.\u001b[0m\u001b[0mSubElement\u001b[0m\u001b[0;34m(\u001b[0m\u001b[0mbody\u001b[0m\u001b[0;34m,\u001b[0m \u001b[0;34m\"cb\"\u001b[0m\u001b[0;34m,\u001b[0m \u001b[0mpageside\u001b[0m\u001b[0;34m=\u001b[0m\u001b[0mcolumn\u001b[0m\u001b[0;34m.\u001b[0m\u001b[0mgroup\u001b[0m\u001b[0;34m(\u001b[0m\u001b[0;34m\"page_num\"\u001b[0m\u001b[0;34m)\u001b[0m\u001b[0;34m,\u001b[0m \u001b[0mside\u001b[0m\u001b[0;34m=\u001b[0m\u001b[0mcolumn\u001b[0m\u001b[0;34m.\u001b[0m\u001b[0mgroup\u001b[0m\u001b[0;34m(\u001b[0m\u001b[0;34m\"side\"\u001b[0m\u001b[0;34m)\u001b[0m\u001b[0;34m)\u001b[0m\u001b[0;34m\u001b[0m\u001b[0;34m\u001b[0m\u001b[0m\n\u001b[0m\u001b[1;32m      6\u001b[0m     \u001b[0mcb\u001b[0m\u001b[0;34m.\u001b[0m\u001b[0mtext\u001b[0m \u001b[0;34m=\u001b[0m \u001b[0mrow\u001b[0m\u001b[0;34m[\u001b[0m\u001b[0;34m\"Griechisch\"\u001b[0m\u001b[0;34m]\u001b[0m\u001b[0;34m\u001b[0m\u001b[0;34m\u001b[0m\u001b[0m\n\u001b[1;32m      7\u001b[0m   \u001b[0;32mif\u001b[0m \u001b[0mpage\u001b[0m\u001b[0;34m:\u001b[0m\u001b[0;34m\u001b[0m\u001b[0;34m\u001b[0m\u001b[0m\n",
            "\u001b[0;31mNameError\u001b[0m: name 'body' is not defined"
          ]
        }
      ]
    },
    {
      "cell_type": "code",
      "metadata": {
        "id": "ZxSNmq1g-oSQ"
      },
      "source": [
        "#"
      ],
      "execution_count": null,
      "outputs": []
    }
  ]
}