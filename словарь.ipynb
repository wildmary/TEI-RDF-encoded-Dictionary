{
  "nbformat": 4,
  "nbformat_minor": 0,
  "metadata": {
    "colab": {
      "name": "словарь.ipynb",
      "provenance": [],
      "authorship_tag": "ABX9TyPYoKAZvMzZEKQ00BZkkbn3",
      "include_colab_link": true
    },
    "kernelspec": {
      "name": "python3",
      "display_name": "Python 3"
    },
    "language_info": {
      "name": "python"
    }
  },
  "cells": [
    {
      "cell_type": "markdown",
      "metadata": {
        "id": "view-in-github",
        "colab_type": "text"
      },
      "source": [
        "<a href=\"https://colab.research.google.com/github/wildmary/TEI-encoded-Dictionary/blob/main/%D1%81%D0%BB%D0%BE%D0%B2%D0%B0%D1%80%D1%8C.ipynb\" target=\"_parent\"><img src=\"https://colab.research.google.com/assets/colab-badge.svg\" alt=\"Open In Colab\"/></a>"
      ]
    },
    {
      "cell_type": "code",
      "metadata": {
        "id": "j1zVhZSCiLlL"
      },
      "source": [
        "import re # ну регулярки нам всегда нужны\n",
        "#import requests\n",
        "import csv\n",
        "from lxml import etree\n",
        "import pandas as pd # пандас традиционно импортируют с алиасом pd, будем придерживаться"
      ],
      "execution_count": 1,
      "outputs": []
    },
    {
      "cell_type": "code",
      "metadata": {
        "id": "ygpZwqyeiNeL"
      },
      "source": [
        "#part = pd.read_csv(\"part.csv\", sep=\";\")\n",
        "part = pd.read_csv(\"1part.csv\", sep=\";\")\n",
        "###MSA = pd.read_csv(\"MSA.csv\", sep=\";\")\n",
        "whole = pd.read_csv(\"whole_dict_csv.csv\", sep=\";\")\n",
        "#partxlsx  = pd.read_excel(\"part.xlsx\")\n",
        "part.columns = [\"Griechisch\", \"GLemma\", \"GMSA\", \"Slavisch\", \"SÜbersetzung\", \"SemantK\", \"Lateinisch\", \"LLemma\", \"LGram\"]\n",
        "#whole.columns = [\"Griechisch\", \"GLemma\", \"GMSA\", \"Slavisch\", \"SÜbersetzung\", \"SemantK\", \"Lateinisch\", \"LLemma\", \"LGram\"]"
      ],
      "execution_count": 2,
      "outputs": []
    },
    {
      "cell_type": "code",
      "metadata": {
        "id": "X6rIZuJVEFfb"
      },
      "source": [
        "part\n",
        "#part[\"SemantK\"][12] = \"тожде єже Βαθμίς\"\n"
      ],
      "execution_count": null,
      "outputs": []
    },
    {
      "cell_type": "code",
      "metadata": {
        "id": "wu8kAgIxSkA5"
      },
      "source": [
        "#tei = (open('tei.xml','w'))\n",
        "#tei.write(etree.tostring(root, encoding=\"unicode\"))\n",
        "with open ('tei.xml', 'w', encoding = 'utf-8') as tei:  \n",
        "  tei.write (etree.tostring(root, encoding='unicode'))"
      ],
      "execution_count": null,
      "outputs": []
    },
    {
      "cell_type": "code",
      "metadata": {
        "id": "Y2tq-7Kx5mzg"
      },
      "source": [
        "table = []\n",
        "for i, row in part[:12].iterrows():\n",
        "  print(\"текущий\", list(row))\n",
        "  previous = list(row)\n",
        "  table.append(previous)\n",
        "  #print(table[0])\n",
        "  if i == 0:\n",
        "    continue\n",
        "  else:\n",
        "    table.remove(table[0])\n",
        "  print(\"предыдущий\", table[0][1])\n",
        " \n",
        "  "
      ],
      "execution_count": null,
      "outputs": []
    },
    {
      "cell_type": "code",
      "metadata": {
        "id": "nbbAKvQa-YB-"
      },
      "source": [
        "root = etree.Element(\"TEI\", xmlns=\"http://www.tei-c.org/ns/1.0\") # создадим корневой тег\n",
        "teiheader = etree.Element(\"teiHeader\")\n",
        "root.append(teiheader)\n",
        "fileDesc = etree.SubElement(teiheader, \"fileDesc\")\n",
        "titleStmt = etree.SubElement(fileDesc, \"titleStmt\")\n",
        "title = etree.SubElement(titleStmt, \"title\")\n",
        "title.text = 'Словарь Епифания Славинецкого'\n",
        "text = etree.SubElement(root, \"text\")\n",
        "body = etree.SubElement(text, \"body\")\n",
        "for index, row in part[:33].iterrows():\n",
        "  if index == 0:\n",
        "    continue\n",
        "  else:\n",
        "   # print(\"следующий\", part['SÜbersetzung'][index+1])\n",
        "    if type(row[\"Griechisch\"]) != float:\n",
        "      if type(row[\"GLemma\"]) == float and type(row[\"SÜbersetzung\"]) == float and type(row[\"LLemma\"]) == float:\n",
        "        page_note()\n",
        "      else:\n",
        "      #print(row[\"Griechisch\"])\n",
        "        entry = etree.SubElement(body, \"entry\", xml_id=row[\"GLemma\"], xml_lang=\"grc\")\n",
        "        form = etree.SubElement(entry, \"form\", type=\"hyperlemma\")\n",
        "        orth = etree.SubElement(form, \"orth\")\n",
        "        orth.text = row[\"Griechisch\"]\n",
        "    #else: \n",
        "    if type(row[\"GLemma\"]) != float:\n",
        "      #print(row[\"GLemma\"])\n",
        "      if type(row[\"Griechisch\"]) == float:\n",
        "        entry = etree.SubElement(body, \"entry\", xml_id=row[\"GLemma\"], xml_lang=\"grc\")\n",
        "      form = etree.SubElement(entry, \"form\", type=\"lemma\")\n",
        "      orth = etree.SubElement(form, \"orth\")\n",
        "      orth.text = row[\"GLemma\"]\n",
        "      #print(type(row[\"GMSA\"]))\n",
        "      if type(row[\"GMSA\"]) != float: #доделать\n",
        "         inflected_gram()\n",
        "      if type(row[\"SÜbersetzung\"]) != float:\n",
        "         sense_greek = etree.SubElement(entry, \"sense\", xml_id=row[\"GLemma\"]+\".1\")\n",
        "   #     print(\"текущий\",row[\"GLemma\"], row[\"SÜbersetzung\"])\n",
        "         slavic_latin_translation()\n",
        "      several_slavic_equivalents_check(part['SÜbersetzung'], part['Lateinisch'], part['LLemma'])\n",
        "    if type(row[\"SemantK\"]) != float:\n",
        "      semantischer_kommentar()\n",
        "      \n",
        "\n",
        "\n",
        "\n",
        "        \n",
        "\n"
      ],
      "execution_count": 41,
      "outputs": []
    },
    {
      "cell_type": "code",
      "metadata": {
        "id": "1TjrI8V4ZaD9"
      },
      "source": [
        "print(etree.tostring(root, pretty_print=True, encoding='unicode'))"
      ],
      "execution_count": null,
      "outputs": []
    },
    {
      "cell_type": "code",
      "metadata": {
        "id": "ypbN9JL5aTtR"
      },
      "source": [
        "text = etree.SubElement(root, \"text\")\n"
      ],
      "execution_count": null,
      "outputs": []
    },
    {
      "cell_type": "code",
      "metadata": {
        "id": "iKuCE8V1ql5y"
      },
      "source": [
        " def slavic_latin_translation():\n",
        "   cit = etree.SubElement(sense_greek, \"cit\", type=\"translationEquivalent\", xml_lang = \"chu\")\n",
        "   form = etree.SubElement(cit, \"form\",  xml_id=row[\"SÜbersetzung\"].strip(\",\"))\n",
        "   orth = etree.SubElement(form, \"orth\")\n",
        "   orth.text = row[\"SÜbersetzung\"].strip(\",\")\n",
        "   if type(row[\"Lateinisch\"]) != float and row[\"Lateinisch\"] != \"-\":\n",
        "        sense = etree.SubElement(cit, \"sense\", xml_id=row[\"SÜbersetzung\"].strip(\",\")+\".1\")\n",
        "        cit = etree.SubElement(sense, \"cit\", type=\"translationEquivalent\", xml_lang = \"lat\")\n",
        "        form = etree.SubElement(cit, \"form\", type=\"hyperlemma\", xml_id=row[\"Lateinisch\"])\n",
        "        orth = etree.SubElement(form, \"orth\")\n",
        "        if type(part['SÜbersetzung'][index+1]) == float \\\n",
        "        and type(part['Lateinisch'][index+1]) != float and part['Lateinisch'][index+1] != \"-\":\n",
        "          orth.text = row[\"Lateinisch\"]+\" \"+part['Lateinisch'][index+1]\n",
        "        else:\n",
        "          orth.text = row[\"Lateinisch\"]\n",
        "   if type(row[\"LLemma\"]) != float and row[\"LLemma\"] != \"-\":\n",
        "    form = etree.SubElement(cit, \"form\", type=\"lemma\", xml_id=row[\"LLemma\"])\n",
        "    orth = etree.SubElement(form, \"orth\")\n",
        "    orth.text = row[\"LLemma\"]\n",
        "\n",
        "   \n",
        "    "
      ],
      "execution_count": 30,
      "outputs": []
    },
    {
      "cell_type": "code",
      "metadata": {
        "id": "9NF4_CzohYo_"
      },
      "source": [
        "def inflected_gram():\n",
        "  inflected = re.search(\"(.*?),\\s(.*)\", row[\"GMSA\"])\n",
        "  if inflected:\n",
        "    form = etree.SubElement(entry, \"form\", type=\"inflected\")\n",
        "    gramGrp = etree.SubElement(form, \"gramGrp\")\n",
        "    gram = etree.SubElement(gramGrp, \"gram\", case=\"genitiv\")\n",
        "    orth = etree.SubElement(form, \"orth\", extent=\"part\")\n",
        "    orth.text = inflected.group(1)\n",
        "    if inflected.group(2) == \"ἡ\":\n",
        "      gramGrp = etree.SubElement(entry, \"gramGrp\")\n",
        "      gram = etree.SubElement(gramGrp, \"gram\", type=\"number\", value=\"sg\")\n",
        "      gram = etree.SubElement(gramGrp, \"gram\", type=\"gen\", value=\"f\")\n",
        "      gram.text = \"ἡ\"\n",
        "    elif inflected.group(2) == \"τὸ\":\n",
        "      gramGrp = etree.SubElement(entry, \"gramGrp\")\n",
        "      gram = etree.SubElement(gramGrp, \"gram\", type=\"number\", value=\"sg\")\n",
        "      gram = etree.SubElement(gramGrp, \"gram\", type=\"gen\", value=\"n\")\n",
        "      gram.text = \"τὸ\"\n",
        "    else:\n",
        "      gramGrp = etree.SubElement(entry, \"gramGrp\")\n",
        "      gram = etree.SubElement(gramGrp, \"gram\", type=\"number\", value=\"sg\")\n",
        "      gram = etree.SubElement(gramGrp, \"gram\", type=\"gen\", value=\"m\")\n",
        "      gram.text = \"ὁ\""
      ],
      "execution_count": 31,
      "outputs": []
    },
    {
      "cell_type": "code",
      "metadata": {
        "id": "_Ieu7dC5S45p"
      },
      "source": [
        "def several_slavic_equivalents_check(Slavic, Latin, LatLemma):\n",
        "  global index\n",
        "  while type(part[\"GLemma\"][index+1]) == float:\n",
        "    if type(Slavic[index+1]) != float:\n",
        "      cit = etree.SubElement(sense_greek, \"cit\", type=\"translationEquivalent\", xml_lang = \"chu\")\n",
        "      form = etree.SubElement(cit, \"form\",  xml_id=Slavic[index+1].strip(\",\"))\n",
        "      orth = etree.SubElement(form, \"orth\")\n",
        "      orth.text = Slavic[index+1].strip(\",\")\n",
        "      if type(Latin[index+1]) != float and Latin[index+1] != \"-\":\n",
        "        sense = etree.SubElement(cit, \"sense\", xml_id=Slavic[index+1]+\".1\")\n",
        "        cit = etree.SubElement(sense, \"cit\", type=\"translationEquivalent\", xml_lang = \"lat\")\n",
        "        form = etree.SubElement(cit, \"form\", type=\"hyperlemma\", xml_id=Latin[index+1])\n",
        "        orth = etree.SubElement(form, \"orth\")\n",
        "        if type(Slavic[index+2]) == float and type(Latin[index+2]) != float and Latin[index+2] != \"-\": \n",
        "          orth.text = Latin[index+1]+\" \"+Latin[index+2]\n",
        "          if type(Slavic[index+3]) == float \\\n",
        "          and type(Latin[index+3]) != float and Latin[index+3] != \"-\":\n",
        "            orth.text = Latin[index+1]+\" \"+Latin[index+2]+\" \"+Latin[index+3]\n",
        "        else:\n",
        "          orth.text = Latin[index+1]\n",
        "      if type(LatLemma[index+1]) != float and LatLemma[index+1] != \"-\":\n",
        "        if type(Latin[index+1]) == float or Latin[index+1] == \"-\":\n",
        "          sense = etree.SubElement(cit, \"sense\", xml_id=Slavic[index+1].strip(\",\")+\".1\")\n",
        "          cit = etree.SubElement(sense, \"cit\", type=\"translationEquivalent\", xml_lang = \"lat\")\n",
        "        form = etree.SubElement(cit, \"form\", type=\"lemma\", xml_id=LatLemma[index+1])\n",
        "        orth = etree.SubElement(form, \"orth\")\n",
        "        if type(Slavic[index+2]) == float and type(LatLemma[index+2]) != float and LatLemma[index+2] != \"-\": \n",
        "          orth.text = LatLemma[index+1]+\" \"+LatLemma[index+2]\n",
        "          if type(Slavic[index+3]) == float \\\n",
        "          and type(LatLemma[index+3]) != float and LatLemma[index+3] != \"-\":\n",
        "            orth.text = LatLemma[index+1]+\" \"+LatLemma[index+2]+\" \"+LatLemma[index+3]\n",
        "        else:\n",
        "          orth.text = LatLemma[index+1]\n",
        "    index+= 1"
      ],
      "execution_count": 40,
      "outputs": []
    },
    {
      "cell_type": "code",
      "metadata": {
        "id": "37faelHDxZSR"
      },
      "source": [
        "def page_note():\n",
        "  column = re.search(\"^(?P<f>f.)\\s(?P<page_num>\\d\\d\\d.).*(?P<side>linke|rechte)\\s(?P<Spalte>Spalte)\", row[\"Griechisch\"])\n",
        "  page = re.search(\"Kustode.*(?P<pg>\\d\\d\\d.)\", row[\"Griechisch\"])\n",
        "  if column:\n",
        "    cb = etree.SubElement(body, \"cb\", pageside=column.group(\"page_num\"), side=column.group(\"side\"))\n",
        "    cb.text = row[\"Griechisch\"]\n",
        "  if page:\n",
        "    pb = etree.SubElement(body, \"pb\", n=page.group(\"pg\"))\n",
        "    pb.text = row[\"Griechisch\"]\n",
        "  if not column and not page:\n",
        "    marg_note = etree.SubElement(body, \"note\")\n",
        "    marg_note.text = row[\"Griechisch\"]"
      ],
      "execution_count": 32,
      "outputs": []
    },
    {
      "cell_type": "code",
      "metadata": {
        "id": "jl7pHjeg_VVS"
      },
      "source": [
        "def semantischer_kommentar():\n",
        "  global index\n",
        "  note_in_entry = re.search(\"(\\[.*\\])\", row[\"SemantK\"])\n",
        "  cross_reference_mention = re.search(\"(тожде єже|тожде|таже)\\s(.*)\", row[\"SemantK\"])\n",
        "  sense_note = etree.SubElement(entry, \"sense\", xml_id=row[\"GLemma\"]+\".1\")\n",
        "  note = etree.SubElement(sense_note, \"note\")\n",
        "  if row[\"SemantK\"] == \"тожде\":\n",
        "    xr = etree.SubElement(note, \"xr\", type=\"synonymy\")\n",
        "    while type(part[\"GLemma\"][index-1]) == float:\n",
        "      index-= 1\n",
        "    ref = etree.SubElement(xr, \"ref\", type=\"entry\", target=\"#\"+part['GLemma'][index-1])\n",
        "    ref.text = row[\"SemantK\"]\n",
        "  if cross_reference_mention:\n",
        "    xr = etree.SubElement(note, \"xr\", type=\"synonymy\")\n",
        "    lbl = etree.SubElement(xr, \"lbl\")\n",
        "    lbl.text = cross_reference_mention.group(1)\n",
        "    ref = etree.SubElement(xr, \"ref\", type=\"entry\", target=\"#\"+cross_reference_mention.group(2))\n",
        "    ref.text = cross_reference_mention.group(2)\n",
        "  if not row[\"SemantK\"] == \"тожде\" and not cross_reference_mention:\n",
        "    note.text = row[\"SemantK\"]\n",
        "  if note_in_entry:\n",
        "    note_editorial = etree.SubElement(note, \"note\", type=\"editor\")\n",
        "    note_editorial.text = note_in_entry.group(1)"
      ],
      "execution_count": 35,
      "outputs": []
    },
    {
      "cell_type": "code",
      "metadata": {
        "id": "qfh9Ia6H9NNI"
      },
      "source": [
        "whole[:3]"
      ],
      "execution_count": null,
      "outputs": []
    },
    {
      "cell_type": "code",
      "metadata": {
        "id": "0KENb7nQ7G09"
      },
      "source": [
        "entry = etree.Element(\"TEI\", xmlns=\"http://www.tei-c.org/ns/1.0\")\n",
        "for index, row in whole.iterrows():\n",
        "  if index == 0:\n",
        "    continue\n",
        "  else:\n",
        "    grammar(row[\"Unnamed: 7\"])\n",
        "      \n"
      ],
      "execution_count": 26,
      "outputs": []
    },
    {
      "cell_type": "code",
      "metadata": {
        "id": "MU3ohZH07vTW"
      },
      "source": [
        "print(etree.tostring(entry, pretty_print=True, encoding='unicode'))"
      ],
      "execution_count": null,
      "outputs": []
    },
    {
      "cell_type": "code",
      "metadata": {
        "id": "3a90POcR5St7"
      },
      "source": [
        "def verb_gram():\n",
        "  whole[\"Unnamed: 7\"][index] = whole[\"Unnamed: 7\"][index]+\" \"+whole['Unnamed: 7'][index+1]\n",
        "  form = etree.SubElement(entry, \"form\", type=\"inflected\")\n",
        "  gramGrp = etree.SubElement(form, \"gramGrp\")\n",
        "  gram = etree.SubElement(gramGrp, \"gram\", type=\"pos\", value=\"verb\")\n",
        "  gram = etree.SubElement(gramGrp, \"gram\", type=\"tense\", value=\"aorist\")\n",
        "  orth = etree.SubElement(form, \"orth\")\n",
        "  orth.text = verb.group(\"aorist\")\n",
        "  form = etree.SubElement(entry, \"form\", type=\"inflected\")\n",
        "  gramGrp = etree.SubElement(form, \"gramGrp\")\n",
        "  gram = etree.SubElement(gramGrp, \"gram\", type=\"pos\", value=\"verb\")\n",
        "  gram = etree.SubElement(gramGrp, \"gram\", type=\"tense\", value=\"perfect\")\n",
        "  orth = etree.SubElement(form, \"orth\")\n",
        "  orth.text = verb.group(\"perfect\")"
      ],
      "execution_count": 8,
      "outputs": []
    },
    {
      "cell_type": "code",
      "metadata": {
        "id": "GM8ZcgJ05_DB"
      },
      "source": [
        "def grammar(MSA): #MSA = row[\"GMSA\"] \n",
        "  def gen_check():\n",
        "    if re.search(\"ὁ\", MSA):\n",
        "      gram = etree.SubElement(gramGrp, \"gram\", type=\"gen\", value=\"m\")\n",
        "      gram.text = \"ὁ\"\n",
        "    if re.search(\"ἡ\", MSA):\n",
        "      gram = etree.SubElement(gramGrp, \"gram\", type=\"gen\", value=\"f\")\n",
        "      gram.text = \"ἡ\"\n",
        "    if re.search(\"τὸ\", MSA):\n",
        "      gram = etree.SubElement(gramGrp, \"gram\", type=\"gen\", value=\"n\")\n",
        "      gram.text = \"τὸ\"\n",
        "  if type(MSA) != float and  type(whole['Unnamed: 1'][index+1]) != float:\n",
        "      noun = re.search(\"(ὁ|ἡ|τὸ)\", MSA)\n",
        "      nouns = re.search(\"(οἱ|αἱ|τὰ)\", MSA)\n",
        "      verb = re.search(\"((\\\\?μ),?\\s(?P<aorist>.*?))?\\s((π),?\\s(?P<perfect>.*))?\", MSA)\n",
        "      adj = re.search(\"((.*?),\\s?)?(.?ὁ καὶ ἡ.?)\", MSA)\n",
        "      just_noun = re.search(\"(.*?),\\s(ὁ|ἡ|τὸ)\", MSA)\n",
        "      genitive_noun = re.search(\"(?P<first>.*?)\\s(καὶ)\\s(?P<second>.*?),\\s?(?P<gen>ὁ|ἡ|τὸ)\", MSA)\n",
        "      if noun:\n",
        "        #print(index, \"noun\")\n",
        "        form = etree.SubElement(entry, \"form\", type=\"inflected\")\n",
        "        gramGrp = etree.SubElement(form, \"gramGrp\")\n",
        "        gram = etree.SubElement(gramGrp, \"gram\", type=\"number\", value=\"sg\")\n",
        "        gram = etree.SubElement(gramGrp, \"gram\", type=\"pos\", value=\"noun\")\n",
        "        if just_noun:\n",
        "          #print(\"simple\")\n",
        "          gram = etree.SubElement(gramGrp, \"gram\", case=\"genitiv\")\n",
        "          orth = etree.SubElement(form, \"orth\", extent=\"part\")\n",
        "          orth.text = just_noun.group(1)\n",
        "          gen_check()\n",
        "        if genitive_noun:\n",
        "          gram = etree.SubElement(gramGrp, \"gram\", case=\"genitiv\")\n",
        "          form_var1 = etree.SubElement(form, \"form\", type=\"variant\", n=1)\n",
        "          orth = etree.SubElement(form_var1, \"orth\", extent=\"part\")\n",
        "          orth.text = genitive_noun.group(\"first\")\n",
        "          form_var2 = etree.SubElement(form, \"form\", type=\"variant\", n=2)\n",
        "          orth = etree.SubElement(form_var2, \"orth\", extent=\"part\")\n",
        "          orth.text = genitive_noun.group(\"second\")\n",
        "          gen_check(MSA)\n",
        "      if nouns:\n",
        "        #print(index, \"nouns\", MSA)\n",
        "        form = etree.SubElement(entry, \"form\", type=\"inflected\")\n",
        "        gramGrp = etree.SubElement(form, \"gramGrp\")\n",
        "        gram = etree.SubElement(gramGrp, \"gram\", type=\"pos\", value=\"noun\")\n",
        "        gram = etree.SubElement(gramGrp, \"gram\", type=\"number\", value=\"pl\")\n",
        "        if re.search(\"οἱ\", MSA):\n",
        "          gram = etree.SubElement(gramGrp, \"gram\", type=\"gen\", value=\"m\")\n",
        "          gram.text = \"οἱ\"\n",
        "        if re.search(\"αἱ\", MSA):\n",
        "          gram = etree.SubElement(gramGrp, \"gram\", type=\"gen\", value=\"f\")\n",
        "          gram.text = \"αἱ\"\n",
        "        if re.search(\"τὰ\", MSA):\n",
        "          gram = etree.SubElement(gramGrp, \"gram\", type=\"gen\", value=\"n\")\n",
        "          gram.text = \"τὰ\"\n",
        "      if adj:\n",
        "        form = etree.SubElement(entry, \"form\", type=\"inflected\")\n",
        "        gramGrp = etree.SubElement(form, \"gramGrp\")\n",
        "        gram = etree.SubElement(gramGrp, \"gram\", type=\"pos\", value=\"adj\")\n",
        "        gram = etree.SubElement(gramGrp, \"gram\", type=\"number\", value=\"sg\")\n",
        "        gram = etree.SubElement(gramGrp, \"gram\", type=\"gen\", value=\"m\")\n",
        "        gram = etree.SubElement(gramGrp, \"gram\", type=\"gen\", value=\"f\")\n",
        "        gram = etree.SubElement(gramGrp, \"gram\", case=\"genitiv\")\n",
        "        orth = etree.SubElement(form, \"orth\", extent=\"part\")\n",
        "        orth.text = MSA  \n",
        "        #print(MSA)\n",
        "      if MSA == \"ῶ\" and type(whole['Unnamed: 7'][index+1]) != float:\n",
        "        whole[\"Unnamed: 7\"][index] = whole[\"Unnamed: 7\"][index]+\" \"+ whole['Unnamed: 7'][index+1]\n",
        "        #print(\"wwwwwwwww\")\n",
        "        if type(whole['Unnamed: 7'][index+2]) != float and type(whole['Unnamed: 1'][index+2]) == float:\n",
        "          whole[\"Unnamed: 7\"][index] = whole[\"Unnamed: 7\"][index]+\" \"+whole['Unnamed: 7'][index+2]\n",
        "          #print(\"three rows\")\n",
        "        form = etree.SubElement(entry, \"form\", type=\"variant\")\n",
        "        gramGrp = etree.SubElement(form, \"gramGrp\")\n",
        "        gram = etree.SubElement(gramGrp, \"gram\", type=\"pos\", value=\"verb\")\n",
        "        gram = etree.SubElement(gramGrp, \"gram\")\n",
        "        gram.text = \"ῶ\"\n",
        "        verb_gram(MSA)\n",
        "      if verb:\n",
        "        #print(index, \"verb\")\n",
        "        if type(whole['Unnamed: 7'][index+1]) != float and type(whole['Unnamed: 1'][index+1]) == float:\n",
        "          verb_gram(MSA)\n",
        "          #print(\"no w but two rows\")\n",
        "      if MSA == \"ῶ\":\n",
        "        form = etree.SubElement(entry, \"form\", type=\"variant\")\n",
        "        gramGrp = etree.SubElement(form, \"gramGrp\")\n",
        "        gram = etree.SubElement(gramGrp, \"gram\")\n",
        "        gram.text = \"ῶ\""
      ],
      "execution_count": 25,
      "outputs": []
    }
  ]
}